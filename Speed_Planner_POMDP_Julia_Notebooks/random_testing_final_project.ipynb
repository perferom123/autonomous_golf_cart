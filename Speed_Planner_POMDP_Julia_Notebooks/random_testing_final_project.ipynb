{
 "cells": [
  {
   "cell_type": "code",
   "execution_count": 3,
   "metadata": {},
   "outputs": [
    {
     "name": "stderr",
     "output_type": "stream",
     "text": [
      "┌ Info: Precompiling POMDPSimulators [e0d0a172-29c6-5d4e-96d0-f262df5d01fd]\n",
      "└ @ Base loading.jl:1273\n",
      "┌ Info: Precompiling ARDESPOT [d96c9ae4-3372-47d5-8a88-316ae77be8cf]\n",
      "└ @ Base loading.jl:1273\n"
     ]
    }
   ],
   "source": [
    "using POMDPs, POMDPModels, POMDPSimulators, ARDESPOT\n",
    "\n",
    "using POMDPs\n",
    "using Distributions: Normal\n",
    "using Random\n",
    "import POMDPs: initialstate_distribution, actions, gen, discount, isterminal\n",
    "Random.seed!(1);"
   ]
  },
  {
   "cell_type": "code",
   "execution_count": null,
   "metadata": {},
   "outputs": [],
   "source": [
    "pomdp = TigerPOMDP()\n",
    "\n",
    "solver = DESPOTSolver(bounds=(-20.0, 0.0))\n",
    "planner = solve(solver, pomdp)\n",
    "\n",
    "for (s, a, o) in stepthrough(pomdp, planner, \"s,a,o\", max_steps=10)\n",
    "    println(\"State was $s,\")\n",
    "    println(\"action $a was taken,\")\n",
    "    println(\"and observation $o was received.\\n\")\n",
    "end"
   ]
  },
  {
   "cell_type": "code",
   "execution_count": null,
   "metadata": {},
   "outputs": [],
   "source": [
    "actions(pomdp)"
   ]
  },
  {
   "cell_type": "code",
   "execution_count": null,
   "metadata": {},
   "outputs": [],
   "source": []
  },
  {
   "cell_type": "code",
   "execution_count": null,
   "metadata": {},
   "outputs": [],
   "source": [
    "using StructArrays"
   ]
  },
  {
   "cell_type": "code",
   "execution_count": null,
   "metadata": {},
   "outputs": [],
   "source": [
    "struct human_goal_location\n",
    "    x:: Int64\n",
    "    y:: Int64\n",
    "end"
   ]
  },
  {
   "cell_type": "code",
   "execution_count": null,
   "metadata": {},
   "outputs": [],
   "source": [
    "s = StructArray{human_goal_location}"
   ]
  },
  {
   "cell_type": "code",
   "execution_count": null,
   "metadata": {},
   "outputs": [],
   "source": [
    "h1 = human_goal_location(1,1) \n",
    "h2 = human_goal_location(2,2)"
   ]
  },
  {
   "cell_type": "code",
   "execution_count": null,
   "metadata": {},
   "outputs": [],
   "source": [
    "# push!(s, h1)"
   ]
  },
  {
   "cell_type": "code",
   "execution_count": null,
   "metadata": {},
   "outputs": [],
   "source": [
    "function lala(obj)\n",
    "    @show obj.x\n",
    "    @show obj.y\n",
    "    h = human_goal_location(obj.x+5,obj.y-1)\n",
    "    return h\n",
    "end"
   ]
  },
  {
   "cell_type": "code",
   "execution_count": null,
   "metadata": {},
   "outputs": [],
   "source": [
    "lala(h2)"
   ]
  },
  {
   "cell_type": "code",
   "execution_count": null,
   "metadata": {},
   "outputs": [],
   "source": [
    "struct human_goal_location\n",
    "    x:: Int64\n",
    "    y:: Int64\n",
    "end\n",
    "struct pedestrian_state\n",
    "    x:: Int64\n",
    "    y:: Int64\n",
    "    goal:: human_goal_location\n",
    "end\n",
    "struct cart_state\n",
    "    x:: Int64\n",
    "    y:: Int64\n",
    "    theta:: Int64\n",
    "    v:: Int64\n",
    "end    \n",
    "struct observations\n",
    "    observed_human_positions:: Array{human_goal_location}\n",
    "end\n",
    "struct SP_POMDP_state\n",
    "    cart:: cart_state\n",
    "    pedestrians:: Array{pedestrian_state}\n",
    "    pedestrian_goals:: Array{human_goal_location}\n",
    "    path:: Array{Int64}\n",
    "    path_covered_index:: Int64\n",
    "end"
   ]
  },
  {
   "cell_type": "code",
   "execution_count": null,
   "metadata": {},
   "outputs": [],
   "source": [
    "mutable struct Speed_Planner_POMDP <: POMDPs.POMDP{SP_POMDP_state, Int, observations}\n",
    "    discount_factor::Float64\n",
    "    step_size::Int\n",
    "end"
   ]
  },
  {
   "cell_type": "code",
   "execution_count": null,
   "metadata": {},
   "outputs": [],
   "source": [
    "# mutable struct LightDark1D <: POMDPs.POMDP{Float64,Int,Int}\n",
    "#     discount_factor::Float64\n",
    "#     correct_r::Float64\n",
    "#     incorrect_r::Float64\n",
    "#     #step_size::Int\n",
    "#     movement_cost::Float64\n",
    "# end\n",
    "# LightDark1D() = LightDark1D(0.9, 10, -10, 1, 0)\n",
    "# discount(p::LightDark1D) = p.discount_factor\n",
    "# isterminal(::LightDark1D, s::Float64) = isnan(s);"
   ]
  },
  {
   "cell_type": "code",
   "execution_count": null,
   "metadata": {},
   "outputs": [],
   "source": [
    "function POMDPs.gen(m::Speed_Planner_POMDP, s, a, rng)\n",
    "    \n",
    "    # transition model\n",
    "    \n",
    "    function calculate_theta(current_state, previous_state)\n",
    "        theta = 0\n",
    "        x_diff = current_state[1] - previous_state[1]\n",
    "        y_diff = current_state[2] - previous_state[2]\n",
    "        if x_diff != 0\n",
    "            if x_diff < 0\n",
    "                theta = 90\n",
    "            else\n",
    "                theta = 270\n",
    "            end\n",
    "        end\n",
    "        if y_diff != 0\n",
    "            if y_diff < 0\n",
    "                theta = 0\n",
    "            else\n",
    "                theta = 180\n",
    "            end\n",
    "        end\n",
    "        return theta\n",
    "    end\n",
    "    \n",
    "    function update_human_state(human, human_goals, rng)\n",
    "        goal = human.goal\n",
    "        \n",
    "        human_fixed_goals = copy(human_goals)\n",
    "        deleteat!(human_fixed_goals, findall(x -> x==goal, human_fixed_goals)[1])\n",
    "        \n",
    "        rand_num = rand(rng)\n",
    "        \n",
    "        function move_human_towards_goal(human, goal)\n",
    "            temp_human_x = human.x\n",
    "            temp_human_y = human.y\n",
    "            if temp_human_x < goal.x\n",
    "                temp_human_x = temp_human_x + 1\n",
    "            elseif temp_human_x > goal.x\n",
    "                temp_human_x = temp_human_x - 1\n",
    "            end\n",
    "\n",
    "            if temp_human_y < goal.y\n",
    "                temp_human_y = temp_human_y + 1\n",
    "            elseif temp_human_y > goal.y\n",
    "                temp_human_y = temp_human_y - 1\n",
    "            end\n",
    "            return pedestrian_state(temp_human_x, temp_human_y, goal)\n",
    "        end\n",
    "        \n",
    "        if rand_num <= 0.7\n",
    "            # move human towards goal\n",
    "            new_human = move_human_towards_goal(human, goal)\n",
    "        elseif rand_num > 0.7 && rand_num <= 0.8\n",
    "            new_human = move_human_towards_goal(human, human_fixed_goals[1])\n",
    "        elseif rand_num > 0.8 && rand_num <= 0.9\n",
    "            new_human = move_human_towards_goal(human, human_fixed_goals[2])\n",
    "        elseif rand_num > 0.9\n",
    "            new_human = move_human_towards_goal(human, human_fixed_goals[3])\n",
    "        end\n",
    "        return new_human\n",
    "    end\n",
    "\n",
    "    new_pedestrians = []\n",
    "    \n",
    "    # action 0\n",
    "    if a == 0\n",
    "        # kart state +2 steps based on path\n",
    "        # x = new state in path's X\n",
    "        # y = new state in path's Y\n",
    "        # theta = new states - one previous state {if change in x or change in y}\n",
    "        # v = v\n",
    "        new_v = s.cart.v + a\n",
    "        new_position = s.path[s.path_covered_index + new_v]\n",
    "        new_theta = calculate_theta(new_position, s.path[s.path_covered_index + new_v - 1])\n",
    "        cart_new_state = cart_state(new_position[1], new_position[2], new_theta, new_v)\n",
    "        \n",
    "        # pedestrians state +1 step in their path for all pedestrians\n",
    "        # change x\n",
    "        # change y\n",
    "        for human in s.pedestrians\n",
    "            new_human = update_human_state(human, s.pedestrian_goals, rng)\n",
    "            push!(new_pedestrians, new_human)\n",
    "        end\n",
    "        # path {need to change now/later based on A* from kart's current position to goal}\n",
    "        new_path_index = s.path_covered_index + new_v\n",
    "    \n",
    "    # action 1\n",
    "    elseif a == 1\n",
    "        # kart state +3 steps based on path\n",
    "        # x = new state in path's X\n",
    "        # y = new state in path's Y\n",
    "        # theta = new states - one previous state {if change in x or change in y}\n",
    "        # v = v +1\n",
    "        new_v = s.cart.v + a % 5\n",
    "        new_position = s.path[s.path_covered_index + new_v]\n",
    "        new_theta = calculate_theta(new_position, s.path[s.path_covered_index + new_v - 1])\n",
    "        cart_new_state = cart_state(new_position[1], new_position[2], new_theta, new_v)\n",
    "            \n",
    "        # pedestrians state +1 step in their path for all pedestrians\n",
    "        # change x\n",
    "        # change y\n",
    "        for human in s.pedestrians\n",
    "            new_human = update_human_state(human, s.pedestrian_goals, rng)\n",
    "            push!(new_pedestrians, new_human)\n",
    "        end\n",
    "        \n",
    "        # path {need to change now/later based on A* from kart's current position to goal}\n",
    "        new_path_index = s.path_covered_index + new_v\n",
    "        \n",
    "    # action -1\n",
    "    elseif a == -1\n",
    "        # kart state +1 steps based on path\n",
    "        # x = new state in path's X\n",
    "        # y = new state in path's Y\n",
    "        # theta = new states - one previous state {if change in x or change in y}\n",
    "        # v = v -1\n",
    "        new_v = s.cart.v + a\n",
    "        if new_v < 0\n",
    "            new_v = 0\n",
    "        end\n",
    "        new_position = s.path[s.path_covered_index + new_v]\n",
    "        new_theta = calculate_theta(new_position, s.path[s.path_covered_index + new_v - 1])\n",
    "        cart_new_state = cart_state(new_position[1], new_position[2], new_theta, new_v)\n",
    "        \n",
    "        # pedestrians state +1 step in their path for all pedestrians\n",
    "        # change x\n",
    "        # change y\n",
    "        for human in s.pedestrians\n",
    "            new_human = update_human_state(human, s.pedestrian_goals, rng)\n",
    "            push!(new_pedestrians, new_human)\n",
    "        end\n",
    "        \n",
    "        # path {need to change now/later based on A* from kart's current position to goal}\n",
    "        new_path_index = s.path_covered_index + new_v\n",
    "        \n",
    "    end\n",
    "    \n",
    "    # update the state object\n",
    "    sp = SP_POMDP_state(cart_new_state, new_pedestrians, s.pedestrian_goals, s.path, new_path_index)\n",
    "#     sp.cart = cart_new_state\n",
    "#     sp.pedestrians = new_pedestrians\n",
    "#     sp.pedestrian_goals = s.pedestrian_goals\n",
    "#     sp.path = s.path\n",
    "#     sp.path_covered_index = new_path_index\n",
    "\n",
    "    \n",
    "    # observation model\n",
    "    o = new_pedestrians\n",
    "    \n",
    "    # reward model\n",
    "    \n",
    "    # collision reward\n",
    "    function collision_reward(sp, coll_threshold)\n",
    "        total_reward = 0\n",
    "        cart_pose_x = sp.cart.x\n",
    "        cart_pose_y = sp.cart.y\n",
    "        for human in sp.pedestrians\n",
    "            dist = ((human.x - cart_pose_x)^2 + (human.y - cart_pose_y)^2)^0.5\n",
    "            if dist < coll_threshold\n",
    "                total_reward = total_reward - 10\n",
    "            end\n",
    "        end\n",
    "        return total_reward\n",
    "    end\n",
    "    \n",
    "    # goal reward\n",
    "    function goal_reward(sp, s, goal_threshold)\n",
    "        total_reward = -1\n",
    "        cart_new_pose_x = sp.cart.x\n",
    "        cart_new_pose_y = sp.cart.y\n",
    "        \n",
    "        cart_goal = sp.path[length(sp.path)]\n",
    "        new_dist = ((cart_goal[1] - cart_new_pose_x)^2 + (cart_goal[1] - cart_new_pose_y)^2)^0.5\n",
    "        \n",
    "        cart_old_pose_x = sp.cart.x\n",
    "        cart_old_pose_y = sp.cart.y\n",
    "        old_dist = ((cart_goal[1] - cart_old_pose_x)^2 + (cart_goal[1] - cart_old_pose_y)^2)^0.5\n",
    "        \n",
    "        if new_dist < old_dist && new_dist != 0\n",
    "            total_reward = 100/new_dist\n",
    "        elseif new_dist == 0\n",
    "            total_reward = 100\n",
    "        end\n",
    "        return total_reward\n",
    "    end\n",
    "    \n",
    "    # speed reward\n",
    "    function speed_reward(sp, max_speed)\n",
    "        return (sp.cart.v - max_speeed)/max_speed\n",
    "    end\n",
    "    \n",
    "    r = collision_reward(sp, 2) + goal_reward(sp, s, 0) + speed_reward(sp, 5)\n",
    "    \n",
    "    \n",
    "    # create and return a NamedTuple\n",
    "    return (sp=sp, o=o, r=r)\n",
    "    \n",
    "end"
   ]
  },
  {
   "cell_type": "code",
   "execution_count": null,
   "metadata": {},
   "outputs": [],
   "source": [
    "g1 =  human_goal_location(4,5)\n",
    "ps1 = pedestrian_state(1,1,g1)\n",
    "ps2 = pedestrian_state(2,2,g1)\n",
    "cs = cart_state(1,2,3,4)\n",
    "pd = SP_POMDP_state(cs,[],[])\n",
    "push!(pd.pedestrians,ps1)\n",
    "push!(pd.pedestrians,ps2)\n",
    "pd.pedestrians[2].goal"
   ]
  },
  {
   "cell_type": "code",
   "execution_count": null,
   "metadata": {},
   "outputs": [],
   "source": [
    "@show(pd.pedestrians[1].goal)"
   ]
  },
  {
   "cell_type": "code",
   "execution_count": null,
   "metadata": {},
   "outputs": [],
   "source": [
    "t = -1\n",
    "if t != 0\n",
    "    @show(t)\n",
    "end\n",
    "    "
   ]
  },
  {
   "cell_type": "code",
   "execution_count": null,
   "metadata": {},
   "outputs": [],
   "source": [
    "function calculate_theta(current_state, previous_state)\n",
    "    theta = 0\n",
    "    x_diff = current_state[1] - previous_state[1]\n",
    "    y_diff = current_state[2] - previous_state[2]\n",
    "    if x_diff != 0\n",
    "        if x_diff < 0\n",
    "            theta = 90\n",
    "        else\n",
    "            theta = 270\n",
    "        end\n",
    "    end\n",
    "    if y_diff != 0\n",
    "        if y_diff < 0\n",
    "            theta = 0\n",
    "        else\n",
    "            theta = 180\n",
    "        end\n",
    "    end\n",
    "    return theta\n",
    "end"
   ]
  },
  {
   "cell_type": "code",
   "execution_count": null,
   "metadata": {},
   "outputs": [],
   "source": [
    "theta = calculate_theta((2,4), (3,4))\n"
   ]
  },
  {
   "cell_type": "code",
   "execution_count": null,
   "metadata": {},
   "outputs": [],
   "source": [
    "ped = []\n",
    "\n",
    "push!(ped, 1)\n",
    "push!(ped, 2)\n",
    "\n",
    "@show(ped)"
   ]
  },
  {
   "cell_type": "code",
   "execution_count": null,
   "metadata": {},
   "outputs": [],
   "source": [
    "using Random\n",
    "\n",
    "rng = MersenneTwister()\n",
    "rand_num = rand(rng)"
   ]
  },
  {
   "cell_type": "code",
   "execution_count": null,
   "metadata": {},
   "outputs": [],
   "source": [
    "@show(rand_num)"
   ]
  },
  {
   "cell_type": "code",
   "execution_count": null,
   "metadata": {},
   "outputs": [],
   "source": [
    "a = []\n",
    "push!(a, (1,1))\n",
    "push!(a, (2,2))\n",
    "push!(a, (3,3))\n",
    "\n",
    "@show(a)\n",
    "\n",
    "idx = findall(x -> x==(2,2), a)\n",
    "\n",
    "@show(idx)\n",
    "    \n",
    "deleteat!(a, findall(x -> x==(2,2), a)[1]) # => [\"D\", \"A\", \"t\"]"
   ]
  },
  {
   "cell_type": "code",
   "execution_count": null,
   "metadata": {},
   "outputs": [],
   "source": [
    "function test_pass_by_ref(human)\n",
    "    new_human = pedestrian_state(10, 20, human.goal)\n",
    "#     new_human.x = 10\n",
    "#     new_human.y = 20\n",
    "    return new_human\n",
    "end\n",
    "\n",
    "\n",
    "g1 =  human_goal_location(4,5)\n",
    "ps1 = pedestrian_state(1,1,g1)\n",
    "@show(ps1)\n",
    "\n",
    "new_h = test_pass_by_ref(ps1)\n",
    "@show(ps1)\n",
    "@show(new_h)"
   ]
  },
  {
   "cell_type": "code",
   "execution_count": null,
   "metadata": {},
   "outputs": [],
   "source": [
    "a = [1,2,3]\n",
    "\n",
    "function test_array(a)\n",
    "    b = a\n",
    "    @show(b)\n",
    "    b[1] = 11\n",
    "    @show(a)\n",
    "    @show(b)\n",
    "end\n",
    "\n",
    "test_array(a)\n",
    "@show(a)"
   ]
  },
  {
   "cell_type": "code",
   "execution_count": null,
   "metadata": {},
   "outputs": [],
   "source": [
    "# sppp = SP_POMDP_state()"
   ]
  },
  {
   "cell_type": "code",
   "execution_count": null,
   "metadata": {},
   "outputs": [],
   "source": [
    "function upper_bound(m, b)\n",
    "    value_sum = 0.0\n",
    "    for (s, w) in weighted_particles(b)\n",
    "        if iscollision(s)\n",
    "            value_sum += w*m.r_collision\n",
    "        else\n",
    "            value_sum += discount(m)^time_to_goal(s)*m.r_goal\n",
    "        end\n",
    "    end\n",
    "    return value_sum/weight_sum(b)\n",
    "end"
   ]
  },
  {
   "cell_type": "code",
   "execution_count": null,
   "metadata": {},
   "outputs": [],
   "source": [
    "struct human_goal_location\n",
    "    x:: Int64\n",
    "    y:: Int64\n",
    "end\n",
    "\n",
    "struct pedestrian_state\n",
    "    x:: Int64\n",
    "    y:: Int64\n",
    "    goal:: human_goal_location\n",
    "end\n",
    "\n",
    "struct cart_state\n",
    "    x:: Int64\n",
    "    y:: Int64\n",
    "    theta:: Int64\n",
    "    v:: Int64\n",
    "end    \n",
    "\n",
    "struct observations\n",
    "    observed_human_positions:: Array{human_goal_location}\n",
    "end\n",
    "\n",
    "struct SP_POMDP_state\n",
    "    cart:: cart_state\n",
    "    pedestrians:: Array{pedestrian_state}\n",
    "    pedestrian_goals:: Array{human_goal_location}\n",
    "    path_covered_index:: Int64\n",
    "end\n",
    "\n",
    "struct human_goal_probability\n",
    "    distribution::Array{Float64}\n",
    "end\n",
    "\n",
    "function isgoalstate(s)\n",
    "    cart_x = s.cart.x\n",
    "    cart_y = s.cart.y\n",
    "    cart_goal = m.cart_goal_position\n",
    "    if(cart_goal.x == cart_x && cart_goal.y == cart_y)\n",
    "        return true\n",
    "    else\n",
    "        return false\n",
    "    end\n",
    "end"
   ]
  },
  {
   "cell_type": "code",
   "execution_count": null,
   "metadata": {},
   "outputs": [],
   "source": [
    "mutable struct Speed_Planner_POMDP <: POMDPs.POMDP{SP_POMDP_state,Int,observations}\n",
    "    discount_factor::Float64\n",
    "    step_size::Int\n",
    "    collision_threshold::Float64\n",
    "    goal_reward::Int64\n",
    "    max_cart_speed::Int64\n",
    "    cart_goal_position::human_goal_location\n",
    "    starting_cart_state::cart_state\n",
    "    starting_human_states::Array{pedestrian_state}\n",
    "    fixed_human_goal_locations::Array{human_goal_location}\n",
    "    human_goals_prob_distribution::Array{human_goal_probability}\n",
    "    astar_path::Array{Tuple{Int64,Int64},1}\n",
    "    start_path_index::Int64\n",
    "end\n",
    "Speed_Planner_POMDP() = Speed_Planner_POMDP(0.9,1,2,100,5,)\n",
    "discount(p::Speed_Planner_POMDP) = p.discount_factor\n",
    "isterminal(::Speed_Planner_POMDP, s::SP_POMDP_state) = isgoalstate(s);"
   ]
  },
  {
   "cell_type": "code",
   "execution_count": null,
   "metadata": {},
   "outputs": [],
   "source": [
    "d1 = human_goal_probability(0.15,0.3,0.5,0.05)\n",
    "d2 = human_goal_probability(0.1,0.3,0.1,0.5)\n",
    "d3 = human_goal_probability(0.5,0.25,0.1,0.15)\n",
    "d4 = human_goal_probability(0.05,0.5,0.35,0.1)"
   ]
  },
  {
   "cell_type": "code",
   "execution_count": null,
   "metadata": {},
   "outputs": [],
   "source": [
    "lk = [d1,d2,d3,d4]"
   ]
  },
  {
   "cell_type": "code",
   "execution_count": null,
   "metadata": {},
   "outputs": [],
   "source": [
    "typeof(lk)"
   ]
  },
  {
   "cell_type": "code",
   "execution_count": null,
   "metadata": {},
   "outputs": [],
   "source": [
    "lk[1].prob_g1"
   ]
  },
  {
   "cell_type": "code",
   "execution_count": null,
   "metadata": {},
   "outputs": [],
   "source": [
    "q = [0.1,0.3,0.5,0.1]"
   ]
  },
  {
   "cell_type": "code",
   "execution_count": null,
   "metadata": {},
   "outputs": [],
   "source": [
    "push!(q,0.77)"
   ]
  },
  {
   "cell_type": "code",
   "execution_count": 24,
   "metadata": {},
   "outputs": [
    {
     "data": {
      "text/plain": [
       "35-element Array{Tuple{Int64,Int64},1}:\n",
       " (8, 30)\n",
       " (7, 30)\n",
       " (7, 29)\n",
       " (7, 28)\n",
       " (7, 27)\n",
       " (7, 26)\n",
       " (7, 25)\n",
       " (7, 24)\n",
       " (7, 23)\n",
       " (7, 22)\n",
       " (6, 22)\n",
       " (6, 21)\n",
       " (5, 21)\n",
       " ⋮      \n",
       " (5, 10)\n",
       " (5, 9) \n",
       " (5, 8) \n",
       " (5, 7) \n",
       " (5, 6) \n",
       " (5, 5) \n",
       " (5, 4) \n",
       " (5, 3) \n",
       " (5, 2) \n",
       " (5, 1) \n",
       " (6, 1) \n",
       " (7, 1) "
      ]
     },
     "execution_count": 24,
     "metadata": {},
     "output_type": "execute_result"
    }
   ],
   "source": [
    "robot_path = [( 8, 30),( 7, 30),( 7, 29),( 7, 28),( 7, 27),( 7, 26),( 7, 25),\n",
    "    ( 7, 24),( 7, 23),( 7, 22),( 6, 22),( 6, 21),( 5, 21),( 5, 20),( 5, 19),\n",
    "             ( 5, 18),( 5, 17),( 5, 16),( 5, 15),( 5, 14),( 5, 13),( 5, 12),( 5, 11),\n",
    "             ( 5, 10),( 5,  9),( 5,  8),( 5,  7),( 5,  6),\n",
    "             ( 5,  5),( 5,  4),( 5,  3),( 5 , 2),( 5 , 1),( 6,  1),( 7,  1)]"
   ]
  },
  {
   "cell_type": "code",
   "execution_count": 25,
   "metadata": {},
   "outputs": [
    {
     "data": {
      "text/plain": [
       "Array{Tuple{Int64,Int64},1}"
      ]
     },
     "execution_count": 25,
     "metadata": {},
     "output_type": "execute_result"
    }
   ],
   "source": [
    "typeof(robot_path)"
   ]
  },
  {
   "cell_type": "code",
   "execution_count": null,
   "metadata": {},
   "outputs": [],
   "source": [
    "robot_path[1][1]"
   ]
  },
  {
   "cell_type": "code",
   "execution_count": null,
   "metadata": {},
   "outputs": [],
   "source": [
    "g1 =  goal_location(1,1)\n",
    "g2 =  goal_location(1,30)\n",
    "g3 =  goal_location(14,30)\n",
    "g4 =  goal_location(14,1)\n",
    "\n",
    "cart_start_state = cart_state(8,30,0,2)\n",
    "cart_goal = goal_location(7,1)\n",
    "\n",
    "ps1 = pedestrian_state(3,22,g4)\n",
    "ps2 = pedestrian_state(4,3,g3)\n",
    "ps1 = pedestrian_state(11, 22,g2)\n",
    "ps2 = pedestrian_state(12,4,g1)\n",
    "\n",
    "human_state_start_list = [ps1,ps2,ps3,ps4]\n",
    "\n",
    "cs = cart_state(1,2,3,4)\n",
    "pd = SP_POMDP_state(cs,[],[],1)\n",
    "push!(pd.pedestrians,ps1)\n",
    "push!(pd.pedestrians,ps2)\n",
    "pd.pedestrians[2].goal\n",
    "\n"
   ]
  },
  {
   "cell_type": "code",
   "execution_count": 15,
   "metadata": {},
   "outputs": [],
   "source": [
    "mutable struct LightDark1D <: POMDPs.POMDP{Float64,Int,Int}\n",
    "    discount_factor::Float64\n",
    "    correct_r::Float64\n",
    "    incorrect_r::Float64\n",
    "    step_size::Int\n",
    "    movement_cost::Float64\n",
    "end\n",
    "ld1() = LightDark1D(0.9, 10, -10, 1, 0)\n",
    "discount(p::LightDark1D) = p.discount_factor\n",
    "isterminal(::LightDark1D, s::Float64) = isnan(s);"
   ]
  },
  {
   "cell_type": "code",
   "execution_count": 17,
   "metadata": {},
   "outputs": [
    {
     "data": {
      "text/plain": [
       "initialstate_distribution (generic function with 11 methods)"
      ]
     },
     "execution_count": 17,
     "metadata": {},
     "output_type": "execute_result"
    }
   ],
   "source": [
    "\n",
    "actions(::LightDark1D) = [-1, 0, 1] # Left Stop Right\n",
    "\n",
    "initialstate_distribution(pomdp::LightDark1D) = Normal(2.0,3.0)"
   ]
  },
  {
   "cell_type": "code",
   "execution_count": 23,
   "metadata": {},
   "outputs": [
    {
     "data": {
      "text/plain": [
       "LightDark1D"
      ]
     },
     "execution_count": 23,
     "metadata": {},
     "output_type": "execute_result"
    }
   ],
   "source": [
    "typeof(ld1())"
   ]
  },
  {
   "cell_type": "code",
   "execution_count": 19,
   "metadata": {},
   "outputs": [
    {
     "data": {
      "text/plain": [
       "3-element Array{Int64,1}:\n",
       " -1\n",
       "  0\n",
       "  1"
      ]
     },
     "execution_count": 19,
     "metadata": {},
     "output_type": "execute_result"
    }
   ],
   "source": [
    "actions(ld1())"
   ]
  },
  {
   "cell_type": "code",
   "execution_count": null,
   "metadata": {},
   "outputs": [],
   "source": []
  }
 ],
 "metadata": {
  "@webio": {
   "lastCommId": null,
   "lastKernelId": null
  },
  "kernelspec": {
   "display_name": "Julia 1.3.1",
   "language": "julia",
   "name": "julia-1.3"
  },
  "language_info": {
   "file_extension": ".jl",
   "mimetype": "application/julia",
   "name": "julia",
   "version": "1.3.1"
  }
 },
 "nbformat": 4,
 "nbformat_minor": 2
}
